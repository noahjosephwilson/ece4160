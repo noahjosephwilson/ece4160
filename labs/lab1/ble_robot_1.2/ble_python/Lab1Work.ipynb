{
 "cells": [
  {
   "cell_type": "code",
   "execution_count": 1,
   "id": "de961ef7-0db6-4c3f-91b3-d6d7cb3c44a8",
   "metadata": {},
   "outputs": [],
   "source": [
    "%load_ext autoreload\n",
    "%autoreload 2\n",
    "\n",
    "from ble import get_ble_controller\n",
    "from base_ble import LOG\n",
    "from cmd_types import CMD\n",
    "import time\n",
    "import numpy as np\n",
    "\n",
    "LOG.propagate = False"
   ]
  },
  {
   "cell_type": "code",
   "execution_count": 2,
   "id": "a4f765aa-6623-4a24-bbbe-2b9925b8654e",
   "metadata": {},
   "outputs": [
    {
     "name": "stdout",
     "output_type": "stream",
     "text": [
      "2025-02-04 23:33:35,122 |\u001b[32m INFO     \u001b[0m|: Looking for Artemis Nano Peripheral Device: c0:c3:f5:25:05:51\n",
      "2025-02-04 23:33:38,120 |\u001b[32m INFO     \u001b[0m|: Connected to c0:c3:f5:25:05:51\n"
     ]
    },
    {
     "name": "stderr",
     "output_type": "stream",
     "text": [
      "/Users/noahwilson21/Desktop/ece4160/labs/lab1/ble_robot_1.2/ble_python/base_ble.py:104: FutureWarning: This method will be removed future version, pass the callback to the BleakClient constructor instead.\n",
      "  self.client.set_disconnected_callback(self.disconnect_handler)\n"
     ]
    }
   ],
   "source": [
    "ble = get_ble_controller()\n",
    "\n",
    "# Connect to the Artemis Device\n",
    "ble.connect()"
   ]
  },
  {
   "cell_type": "code",
   "execution_count": 3,
   "id": "23bf6d09-debd-4b21-8a6b-94f2aeffdabb",
   "metadata": {},
   "outputs": [
    {
     "name": "stdout",
     "output_type": "stream",
     "text": [
      "Robot says -> Hello World\n"
     ]
    }
   ],
   "source": [
    "ble.send_command(CMD.ECHO, \"Hello World\")\n",
    "s = ble.receive_string(ble.uuid['RX_STRING'])\n",
    "print(s)"
   ]
  },
  {
   "cell_type": "code",
   "execution_count": 4,
   "id": "e5e6a751-fd72-4c20-8174-f0110e423c10",
   "metadata": {},
   "outputs": [],
   "source": [
    "ble.send_command(CMD.SEND_THREE_FLOATS, \".07|-6.0|5.0\")"
   ]
  },
  {
   "cell_type": "code",
   "execution_count": 5,
   "id": "333ed10f-ab24-415c-a5c3-fab8f279decd",
   "metadata": {},
   "outputs": [
    {
     "name": "stdout",
     "output_type": "stream",
     "text": [
      "T:312217.000\n"
     ]
    }
   ],
   "source": [
    "ble.send_command(CMD.GET_TIME_MILLIS, \"\")\n",
    "s = ble.receive_string(ble.uuid['RX_STRING'])\n",
    "print(s)"
   ]
  },
  {
   "cell_type": "code",
   "execution_count": 6,
   "id": "f08368eb-9364-451f-a142-7fca2370f286",
   "metadata": {},
   "outputs": [],
   "source": [
    "def notification_handler(uuid, byte_array):\n",
    "    s = ble.bytearray_to_string(byte_array)\n",
    "    print(s[2:])\n",
    "\n",
    "# ble.start_notify(ble.uuid['RX_STRING'], notification_handler)\n",
    "# ble.send_command(CMD.GET_TIME_MILLIS,\"\")"
   ]
  },
  {
   "cell_type": "code",
   "execution_count": null,
   "id": "5ae80af9-1ab0-4ce8-8315-1a747e06d916",
   "metadata": {},
   "outputs": [],
   "source": []
  },
  {
   "cell_type": "code",
   "execution_count": 7,
   "id": "e2d8e5bc-4344-472e-bf01-bf947d1270a4",
   "metadata": {},
   "outputs": [
    {
     "name": "stdout",
     "output_type": "stream",
     "text": [
      "[]\n"
     ]
    },
    {
     "ename": "IndexError",
     "evalue": "list index out of range",
     "output_type": "error",
     "traceback": [
      "\u001b[0;31m---------------------------------------------------------------------------\u001b[0m",
      "\u001b[0;31mIndexError\u001b[0m                                Traceback (most recent call last)",
      "Cell \u001b[0;32mIn[7], line 12\u001b[0m\n\u001b[1;32m      8\u001b[0m ble\u001b[38;5;241m.\u001b[39msend_command(CMD\u001b[38;5;241m.\u001b[39mGET_TIME_MILLIS,\u001b[38;5;124m\"\u001b[39m\u001b[38;5;124m\"\u001b[39m)\n\u001b[1;32m     10\u001b[0m \u001b[38;5;28mprint\u001b[39m (str_t)\n\u001b[0;32m---> 12\u001b[0m rec_time \u001b[38;5;241m=\u001b[39m (\u001b[43mstr_t\u001b[49m\u001b[43m[\u001b[49m\u001b[38;5;241;43m-\u001b[39;49m\u001b[38;5;241;43m1\u001b[39;49m\u001b[43m]\u001b[49m \u001b[38;5;241m-\u001b[39m str_t[\u001b[38;5;241m0\u001b[39m])\u001b[38;5;241m/\u001b[39m (\u001b[38;5;28mlen\u001b[39m(str_t)\u001b[38;5;241m-\u001b[39m\u001b[38;5;241m1\u001b[39m)\n\u001b[1;32m     13\u001b[0m \u001b[38;5;28mprint\u001b[39m (rec_time\u001b[38;5;241m/\u001b[39m\u001b[38;5;241m1000\u001b[39m)\n",
      "\u001b[0;31mIndexError\u001b[0m: list index out of range"
     ]
    }
   ],
   "source": [
    "str_t = []\n",
    "\n",
    "def notification_loop(uuid, byte_array):\n",
    "    s = ble.bytearray_to_string(byte_array)\n",
    "    str_t.append(float(s))\n",
    "\n",
    "ble.start_notify(ble.uuid['RX_STRING'], notification_loop)\n",
    "ble.send_command(CMD.GET_TIME_MILLIS,\"\")\n",
    "\n",
    "print (str_t)\n",
    "\n",
    "rec_time = (str_t[-1] - str_t[0])/ (len(str_t)-1)\n",
    "print (rec_time/1000)"
   ]
  },
  {
   "cell_type": "code",
   "execution_count": null,
   "id": "de66e06c-0260-4fd9-b53d-26fd00713560",
   "metadata": {},
   "outputs": [],
   "source": []
  }
 ],
 "metadata": {
  "kernelspec": {
   "display_name": "Python 3 (ipykernel)",
   "language": "python",
   "name": "python3"
  },
  "language_info": {
   "codemirror_mode": {
    "name": "ipython",
    "version": 3
   },
   "file_extension": ".py",
   "mimetype": "text/x-python",
   "name": "python",
   "nbconvert_exporter": "python",
   "pygments_lexer": "ipython3",
   "version": "3.13.1"
  }
 },
 "nbformat": 4,
 "nbformat_minor": 5
}
